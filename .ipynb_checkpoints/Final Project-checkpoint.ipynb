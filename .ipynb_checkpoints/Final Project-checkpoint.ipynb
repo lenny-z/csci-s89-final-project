{
 "cells": [
  {
   "cell_type": "markdown",
   "id": "00fa1f1a",
   "metadata": {},
   "source": [
    "## Preparation\n",
    "Make the file structure:"
   ]
  },
  {
   "cell_type": "code",
   "execution_count": 6,
   "id": "2b7e8c9b",
   "metadata": {},
   "outputs": [],
   "source": [
    "import os\n",
    "\n",
    "base_dir = 'data_small'\n",
    "\n",
    "def make_dir(dir_name):\n",
    "    if not os.path.exists(dir_name):\n",
    "        os.mkdir(dir_name)\n",
    "\n",
    "make_dir(base_dir)\n",
    "\n",
    "train_dir = os.path.join(base_dir, 'train')\n",
    "make_dir(train_dir)\n",
    "\n",
    "train_x_dir = os.path.join(train_dir, 'x')\n",
    "make_dir(train_x_dir)\n",
    "\n",
    "train_y_dir = os.path.join(train_dir, 'y')\n",
    "make_dir(train_y_dir)\n",
    "\n",
    "val_dir = os.path.join(base_dir, 'val')\n",
    "make_dir(val_dir)\n",
    "\n",
    "val_x_dir = os.path.join(val_dir, 'x')\n",
    "make_dir(val_x_dir)\n",
    "\n",
    "val_y_dir = os.path.join(val_dir, 'y')\n",
    "make_dir(val_y_dir)\n",
    "\n",
    "test_dir = os.path.join(base_dir, 'test')\n",
    "make_dir(test_dir)\n",
    "\n",
    "test_x_dir = os.path.join(test_dir, 'x')\n",
    "make_dir(test_x_dir)\n",
    "\n",
    "test_y_dir = os.path.join(test_dir, 'y')\n",
    "make_dir(test_y_dir)"
   ]
  },
  {
   "cell_type": "markdown",
   "id": "43c169db",
   "metadata": {},
   "source": [
    "Copy over some images:"
   ]
  },
  {
   "cell_type": "code",
   "execution_count": 26,
   "id": "f6fd0d20",
   "metadata": {
    "scrolled": false
   },
   "outputs": [
    {
     "ename": "FileNotFoundError",
     "evalue": "[Errno 2] No such file or directory: 'data/training/images\\\\U6RnrAjXMMBCX4SDEnUScQ.png'",
     "output_type": "error",
     "traceback": [
      "\u001b[1;31m---------------------------------------------------------------------------\u001b[0m",
      "\u001b[1;31mFileNotFoundError\u001b[0m                         Traceback (most recent call last)",
      "Input \u001b[1;32mIn [26]\u001b[0m, in \u001b[0;36m<cell line: 33>\u001b[1;34m()\u001b[0m\n\u001b[0;32m     30\u001b[0m copy_files(\u001b[38;5;124m'\u001b[39m\u001b[38;5;124mdata/training/images\u001b[39m\u001b[38;5;124m'\u001b[39m, train_x_dir, \u001b[38;5;28mlist\u001b[39m(\u001b[38;5;28mmap\u001b[39m(\u001b[38;5;28;01mlambda\u001b[39;00m x : add_extension(x, \u001b[38;5;124m'\u001b[39m\u001b[38;5;124mjpg\u001b[39m\u001b[38;5;124m'\u001b[39m), file_names)))\n\u001b[0;32m     32\u001b[0m clear_dir(train_y_dir)\n\u001b[1;32m---> 33\u001b[0m \u001b[43mcopy_files\u001b[49m\u001b[43m(\u001b[49m\u001b[38;5;124;43m'\u001b[39;49m\u001b[38;5;124;43mdata/training/images\u001b[39;49m\u001b[38;5;124;43m'\u001b[39;49m\u001b[43m,\u001b[49m\u001b[43m \u001b[49m\u001b[43mtrain_y_dir\u001b[49m\u001b[43m,\u001b[49m\u001b[43m \u001b[49m\u001b[38;5;28;43mlist\u001b[39;49m\u001b[43m(\u001b[49m\u001b[38;5;28;43mmap\u001b[39;49m\u001b[43m(\u001b[49m\u001b[38;5;28;43;01mlambda\u001b[39;49;00m\u001b[43m \u001b[49m\u001b[43mx\u001b[49m\u001b[43m \u001b[49m\u001b[43m:\u001b[49m\u001b[43m \u001b[49m\u001b[43madd_extension\u001b[49m\u001b[43m(\u001b[49m\u001b[43mx\u001b[49m\u001b[43m,\u001b[49m\u001b[43m \u001b[49m\u001b[38;5;124;43m'\u001b[39;49m\u001b[38;5;124;43mpng\u001b[39;49m\u001b[38;5;124;43m'\u001b[39;49m\u001b[43m)\u001b[49m\u001b[43m,\u001b[49m\u001b[43m \u001b[49m\u001b[43mfile_names\u001b[49m\u001b[43m)\u001b[49m\u001b[43m)\u001b[49m\u001b[43m)\u001b[49m\n",
      "Input \u001b[1;32mIn [26]\u001b[0m, in \u001b[0;36mcopy_files\u001b[1;34m(src_dir, dest_dir, file_names)\u001b[0m\n\u001b[0;32m     16\u001b[0m \u001b[38;5;28;01mdef\u001b[39;00m \u001b[38;5;21mcopy_files\u001b[39m(src_dir, dest_dir, file_names):\n\u001b[0;32m     17\u001b[0m     \u001b[38;5;28;01mfor\u001b[39;00m file_name \u001b[38;5;129;01min\u001b[39;00m file_names:\n\u001b[1;32m---> 18\u001b[0m         \u001b[43mshutil\u001b[49m\u001b[38;5;241;43m.\u001b[39;49m\u001b[43mcopy\u001b[49m\u001b[43m(\u001b[49m\u001b[43mos\u001b[49m\u001b[38;5;241;43m.\u001b[39;49m\u001b[43mpath\u001b[49m\u001b[38;5;241;43m.\u001b[39;49m\u001b[43mjoin\u001b[49m\u001b[43m(\u001b[49m\u001b[43msrc_dir\u001b[49m\u001b[43m,\u001b[49m\u001b[43m \u001b[49m\u001b[43mfile_name\u001b[49m\u001b[43m)\u001b[49m\u001b[43m,\u001b[49m\u001b[43m \u001b[49m\u001b[43mdest_dir\u001b[49m\u001b[43m)\u001b[49m\n",
      "File \u001b[1;32m~\\anaconda3\\envs\\cscis89\\lib\\shutil.py:427\u001b[0m, in \u001b[0;36mcopy\u001b[1;34m(src, dst, follow_symlinks)\u001b[0m\n\u001b[0;32m    425\u001b[0m \u001b[38;5;28;01mif\u001b[39;00m os\u001b[38;5;241m.\u001b[39mpath\u001b[38;5;241m.\u001b[39misdir(dst):\n\u001b[0;32m    426\u001b[0m     dst \u001b[38;5;241m=\u001b[39m os\u001b[38;5;241m.\u001b[39mpath\u001b[38;5;241m.\u001b[39mjoin(dst, os\u001b[38;5;241m.\u001b[39mpath\u001b[38;5;241m.\u001b[39mbasename(src))\n\u001b[1;32m--> 427\u001b[0m \u001b[43mcopyfile\u001b[49m\u001b[43m(\u001b[49m\u001b[43msrc\u001b[49m\u001b[43m,\u001b[49m\u001b[43m \u001b[49m\u001b[43mdst\u001b[49m\u001b[43m,\u001b[49m\u001b[43m \u001b[49m\u001b[43mfollow_symlinks\u001b[49m\u001b[38;5;241;43m=\u001b[39;49m\u001b[43mfollow_symlinks\u001b[49m\u001b[43m)\u001b[49m\n\u001b[0;32m    428\u001b[0m copymode(src, dst, follow_symlinks\u001b[38;5;241m=\u001b[39mfollow_symlinks)\n\u001b[0;32m    429\u001b[0m \u001b[38;5;28;01mreturn\u001b[39;00m dst\n",
      "File \u001b[1;32m~\\anaconda3\\envs\\cscis89\\lib\\shutil.py:264\u001b[0m, in \u001b[0;36mcopyfile\u001b[1;34m(src, dst, follow_symlinks)\u001b[0m\n\u001b[0;32m    262\u001b[0m     os\u001b[38;5;241m.\u001b[39msymlink(os\u001b[38;5;241m.\u001b[39mreadlink(src), dst)\n\u001b[0;32m    263\u001b[0m \u001b[38;5;28;01melse\u001b[39;00m:\n\u001b[1;32m--> 264\u001b[0m     \u001b[38;5;28;01mwith\u001b[39;00m \u001b[38;5;28;43mopen\u001b[39;49m\u001b[43m(\u001b[49m\u001b[43msrc\u001b[49m\u001b[43m,\u001b[49m\u001b[43m \u001b[49m\u001b[38;5;124;43m'\u001b[39;49m\u001b[38;5;124;43mrb\u001b[39;49m\u001b[38;5;124;43m'\u001b[39;49m\u001b[43m)\u001b[49m \u001b[38;5;28;01mas\u001b[39;00m fsrc:\n\u001b[0;32m    265\u001b[0m         \u001b[38;5;28;01mtry\u001b[39;00m:\n\u001b[0;32m    266\u001b[0m             \u001b[38;5;28;01mwith\u001b[39;00m \u001b[38;5;28mopen\u001b[39m(dst, \u001b[38;5;124m'\u001b[39m\u001b[38;5;124mwb\u001b[39m\u001b[38;5;124m'\u001b[39m) \u001b[38;5;28;01mas\u001b[39;00m fdst:\n\u001b[0;32m    267\u001b[0m                 \u001b[38;5;66;03m# macOS\u001b[39;00m\n",
      "\u001b[1;31mFileNotFoundError\u001b[0m: [Errno 2] No such file or directory: 'data/training/images\\\\U6RnrAjXMMBCX4SDEnUScQ.png'"
     ]
    }
   ],
   "source": [
    "import random, shutil\n",
    "\n",
    "file_names = os.listdir(src_dir)\n",
    "\n",
    "total_size = 4096\n",
    "test_ratio = 0.25\n",
    "train_size, test_size = int(total_size * (1 - test_ratio)), int(total_size * test_ratio)\n",
    "train_size, val_size = int(train_size * (1 - test_ratio)), int(train_size * test_ratio)\n",
    "\n",
    "def clear_dir(dir_name):\n",
    "    file_names = os.listdir(dir_name)\n",
    "    \n",
    "    for file_name in file_names:\n",
    "        os.remove(os.path.join(dir_name, file_name))\n",
    "\n",
    "def copy_files(src_dir, dest_dir, file_names):\n",
    "    for file_name in file_names:\n",
    "        shutil.copy(os.path.join(src_dir, file_name), dest_dir)\n",
    "\n",
    "def strip_extension(file_name):\n",
    "    return os.path.splitext(file_name)[0]\n",
    "\n",
    "def add_extension(file_name, extension):\n",
    "    return file_name + '.' + extension\n",
    "\n",
    "file_names = random.sample(os.listdir(src_dir), train_size)\n",
    "file_names = list(map(strip_extension, file_names))\n",
    "\n",
    "clear_dir(train_x_dir)\n",
    "copy_files('data/training/images', train_x_dir, list(map(lambda x : add_extension(x, 'jpg'), file_names)))\n",
    "\n",
    "clear_dir(train_y_dir)\n",
    "copy_files('data/training/v2.0/labels', train_y_dir, list(map(lambda x : add_extension(x, 'png'), file_names)))"
   ]
  }
 ],
 "metadata": {
  "kernelspec": {
   "display_name": "Python 3 (ipykernel)",
   "language": "python",
   "name": "python3"
  },
  "language_info": {
   "codemirror_mode": {
    "name": "ipython",
    "version": 3
   },
   "file_extension": ".py",
   "mimetype": "text/x-python",
   "name": "python",
   "nbconvert_exporter": "python",
   "pygments_lexer": "ipython3",
   "version": "3.9.12"
  }
 },
 "nbformat": 4,
 "nbformat_minor": 5
}
