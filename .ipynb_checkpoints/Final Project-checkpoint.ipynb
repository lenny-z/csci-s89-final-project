{
 "cells": [
  {
   "cell_type": "markdown",
   "id": "ce4ea42a",
   "metadata": {},
   "source": [
    "## Preparation\n",
    "Make the file structure:"
   ]
  },
  {
   "cell_type": "code",
   "execution_count": 6,
   "id": "46534a90",
   "metadata": {},
   "outputs": [],
   "source": [
    "import os\n",
    "\n",
    "base_dir = 'data_small'\n",
    "\n",
    "def make_dir(dir_name):\n",
    "    if not os.path.exists(dir_name):\n",
    "        os.mkdir(dir_name)\n",
    "\n",
    "make_dir(base_dir)\n",
    "\n",
    "train_dir = os.path.join(base_dir, 'train')\n",
    "make_dir(train_dir)\n",
    "\n",
    "train_x_dir = os.path.join(train_dir, 'x')\n",
    "make_dir(train_x_dir)\n",
    "\n",
    "train_y_dir = os.path.join(train_dir, 'y')\n",
    "make_dir(train_y_dir)\n",
    "\n",
    "val_dir = os.path.join(base_dir, 'val')\n",
    "make_dir(val_dir)\n",
    "\n",
    "val_x_dir = os.path.join(val_dir, 'x')\n",
    "make_dir(val_x_dir)\n",
    "\n",
    "val_y_dir = os.path.join(val_dir, 'y')\n",
    "make_dir(val_y_dir)\n",
    "\n",
    "test_dir = os.path.join(base_dir, 'test')\n",
    "make_dir(test_dir)\n",
    "\n",
    "test_x_dir = os.path.join(test_dir, 'x')\n",
    "make_dir(test_x_dir)\n",
    "\n",
    "test_y_dir = os.path.join(test_dir, 'y')\n",
    "make_dir(test_y_dir)"
   ]
  },
  {
   "cell_type": "markdown",
   "id": "d534a565",
   "metadata": {},
   "source": [
    "Copy over some images:"
   ]
  },
  {
   "cell_type": "code",
   "execution_count": 23,
   "id": "23fe7766",
   "metadata": {
    "scrolled": false
   },
   "outputs": [],
   "source": [
    "import random, shutil\n",
    "\n",
    "file_names = os.listdir(src_dir)\n",
    "\n",
    "total_size = 4096\n",
    "test_ratio = 0.25\n",
    "train_size, test_size = int(total_size * (1 - test_ratio)), int(total_size * test_ratio)\n",
    "train_size, val_size = int(train_size * (1 - test_ratio)), int(train_size * test_ratio)\n",
    "\n",
    "def clear_dir(dir_name):\n",
    "    file_names = os.listdir(dir_name)\n",
    "    \n",
    "    for file_name in file_names:\n",
    "        os.remove(os.path.join(dir_name, file_name))\n",
    "\n",
    "clear_dir(train_x_dir)\n",
    "src_dir = 'data/training/images'\n",
    "file_names = random.sample(os.listdir(src_dir), train_size)\n",
    "file_names = list(map(lambda x : os.path.splitext(x)[0], file_names))\n",
    "\n",
    "for file_name in file_names:\n",
    "    shutil.copy(os.path.join(src_dir, file_name + '.jpg'), train_x_dir)\n",
    "\n",
    "src_dir = 'data/training/v2.0/labels'\n",
    "\n",
    "clear_dir(train_y_dir)\n",
    "for file_name in file_names:\n",
    "    shutil.copy(os.path.join(src_dir, file_name + '.png'), train_y_dir)"
   ]
  }
 ],
 "metadata": {
  "kernelspec": {
   "display_name": "Python 3 (ipykernel)",
   "language": "python",
   "name": "python3"
  },
  "language_info": {
   "codemirror_mode": {
    "name": "ipython",
    "version": 3
   },
   "file_extension": ".py",
   "mimetype": "text/x-python",
   "name": "python",
   "nbconvert_exporter": "python",
   "pygments_lexer": "ipython3",
   "version": "3.9.12"
  }
 },
 "nbformat": 4,
 "nbformat_minor": 5
}
